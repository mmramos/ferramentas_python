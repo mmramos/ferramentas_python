{
 "cells": [
  {
   "cell_type": "markdown",
   "metadata": {
    "colab_type": "text",
    "id": "2kqNLesvVsDr"
   },
   "source": [
    "<img src='https://lh3.googleusercontent.com/oDztBUjgE_oFECBAFQU7tVowMUHUdljL8iDsqlRXKB0Fd2zCzTdDMUfS9GIb_CbOa7v14RME4Q0W4KThHmx0Qc2n28_sQAd1t9auSbgNHXoAGDDab-m1HLUP1W0ytYf4fp6hd3HVIo5rRUzOcWQtDNauw-ZXgBNzoEJNCQqaXcLXqrByxJAT42D2cmnLar9OvCGpRDMCDDeFhTjibJ9Soo-Ogh0axd9mMmHQx_UbMbbMgVc36rpuT5g1xKrgcqQ_-lYoAiermCR3rpwyeLY5Afw_gk085KtFFxv88aC0KUewIszau_vvSdeOYsRLfzsPFTnKFLyvlw7d0BgTESUEqPZw4ldIyvjpG49xvbYUB5fVqbNKhu1sWTPrO_UsIZF-8SMqtEaLXcWOYgWfasJSlxZ1pJ4u-vczcVSEM35AhNFCg3H6hlGazZZPcg2i0Oh_oc5p7NbzjUTIbm5utfCkUEzPpgRcnRuuMJcvX8hNjuCRMI7J-QFIJlQg9Onedy6NaxiIbBlgBdWmZvcqql-8tbRJhBbJJbXCzIra-lVJuK3tsjhK_1Z3NdmJR2Zg3-MY-VwMBBcREnb5MKsPTonqjriWXbhZYbYYAUC53w=w222-h123-no' width=\"200px\" align=\"left\">\n",
    "\n",
    "<center><font size=\"6\" face=\"Arial Black\" color=\"black\">Multiprocessing</font>\n",
    "<br/><font size=\"5\" face=\"Arial\" color=\"black\"><a href='https://www.youtube.com/watch?v=Lu5LrKh1Zno'>Python gerenciamento de processos</a> </font>\n",
    "\n",
    "\n",
    "</center>"
   ]
  },
  {
   "cell_type": "code",
   "execution_count": 1,
   "metadata": {
    "colab": {
     "base_uri": "https://localhost:8080/",
     "height": 269
    },
    "colab_type": "code",
    "executionInfo": {
     "elapsed": 4868,
     "status": "ok",
     "timestamp": 1535485929325,
     "user": {
      "displayName": "Mario UFF ID UFF",
      "photoUrl": "https://lh3.googleusercontent.com/a/default-user=s128",
      "userId": "114894858808878387190"
     },
     "user_tz": 180
    },
    "id": "VMEjr5IEViSx",
    "outputId": "d86a8410-2f9a-4107-bb11-e7ca71594560"
   },
   "outputs": [
    {
     "name": "stdout",
     "output_type": "stream",
     "text": [
      "square 4\n",
      "cube 8\n",
      "square 9\n",
      "cube 27\n",
      "square 64\n",
      "cube 512\n",
      "square 81\n",
      "cube 729\n",
      "\n",
      " done!\n",
      "---------------------------\n",
      "[2, 3, 8, 9]\n",
      "[]\n",
      "[]\n"
     ]
    }
   ],
   "source": [
    "import time\n",
    "import multiprocessing\n",
    "\n",
    "def calc_square(numbers):\n",
    "    global square_result\n",
    "    for n in numbers:\n",
    "        time.sleep(1) \n",
    "        print('square ' + str(n*n))\n",
    "        square_result.append(n*n)\n",
    "    \n",
    "def calc_cube(numbers):\n",
    "    global cube_result\n",
    "    for n in numbers:\n",
    "        time.sleep(1)\n",
    "        print('cube ' + str(n*n*n))\n",
    "        cube_result.append(n*n*n)\n",
    "  \n",
    "  \n",
    "if __name__ == \"__main__\":\n",
    "    arr = [2,3,8,9]\n",
    "    square_result = []\n",
    "    cube_result  = []\n",
    "\n",
    "    p1 = multiprocessing.Process(target=calc_square, args=(arr,))\n",
    "    p2 = multiprocessing.Process(target=calc_cube, args=(arr,))\n",
    "\n",
    "    p1.start()\n",
    "    p2.start()\n",
    "\n",
    "    p1.join()\n",
    "    p2.join()\n",
    "\n",
    "    print(\"\\n done!\")\n",
    "    print(\"---------------------------\")\n",
    "    print(arr)\n",
    "    print(square_result)\n",
    "    print(cube_result)\n",
    "  \n",
    "  "
   ]
  },
  {
   "cell_type": "code",
   "execution_count": 0,
   "metadata": {
    "colab": {},
    "colab_type": "code",
    "id": "09iO4oZTiA7g"
   },
   "outputs": [],
   "source": []
  }
 ],
 "metadata": {
  "colab": {
   "collapsed_sections": [],
   "name": "multiprocessing.ipynb",
   "provenance": [],
   "version": "0.3.2"
  },
  "kernelspec": {
   "display_name": "Python 3",
   "language": "python",
   "name": "python3"
  },
  "language_info": {
   "codemirror_mode": {
    "name": "ipython",
    "version": 3
   },
   "file_extension": ".py",
   "mimetype": "text/x-python",
   "name": "python",
   "nbconvert_exporter": "python",
   "pygments_lexer": "ipython3",
   "version": "3.6.8"
  }
 },
 "nbformat": 4,
 "nbformat_minor": 1
}
