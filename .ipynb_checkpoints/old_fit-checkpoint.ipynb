{
 "cells": [
  {
   "cell_type": "code",
   "execution_count": 0,
   "metadata": {
    "colab": {
     "autoexec": {
      "startup": false,
      "wait_interval": 0
     }
    },
    "colab_type": "code",
    "id": "8udjOlfmt6b7"
   },
   "outputs": [],
   "source": [
    "import numpy as np\n",
    "import matplotlib.pyplot as plt\n",
    "import sys"
   ]
  },
  {
   "cell_type": "code",
   "execution_count": 0,
   "metadata": {
    "colab": {
     "autoexec": {
      "startup": false,
      "wait_interval": 0
     }
    },
    "colab_type": "code",
    "id": "BLaogI4b12LU"
   },
   "outputs": [],
   "source": [
    "def mario_adjust(curve_x,curve_y,order):\n",
    "\n",
    "    A = list(range(1,order+1))\n",
    "    M = [[np.sum(curve_x**(i+j)) for i in range (order)] for j in range (order)]\n",
    "    N = [np.sum(curve_y*(curve_x**(i))) for i in range (order)]\n",
    "\n",
    "    MI = np.linalg.inv(M)\n",
    "    p = (np.dot(MI,N))\n",
    "    X = [(curve_x**i) for i in range (order)]\n",
    "    XP = np.array([X[i]*p[i] for i in range (order)])\n",
    "    Y = XP.sum(axis=0)\n",
    "    return(Y)\n",
    "\n",
    "def point_adjust(x,curve_x,curve_y,order):\n",
    "\n",
    "    A = list(range(1,order+1))\n",
    "    M = [[np.sum(curve_x**(i+j)) for i in range (order)] for j in range (order)]\n",
    "    N = [np.sum(curve_y*(curve_x**(i))) for i in range (order)]\n",
    "\n",
    "    MI = np.linalg.inv(M)\n",
    "    p = (np.dot(MI,N))\n",
    "    #--------------------------------------------------------------#\n",
    "    Y = []\n",
    "    for i in range(order):\n",
    "    y.append(p[i]*(x**i))\n",
    "\n",
    "    Y = sum(Y)\n",
    "\n",
    "    return(Y)"
   ]
  },
  {
   "cell_type": "code",
   "execution_count": 4,
   "metadata": {
    "colab": {
     "autoexec": {
      "startup": false,
      "wait_interval": 0
     },
     "base_uri": "https://localhost:8080/",
     "height": 534
    },
    "colab_type": "code",
    "executionInfo": {
     "elapsed": 4133,
     "status": "ok",
     "timestamp": 1526918609488,
     "user": {
      "displayName": "Mario UFF ID UFF",
      "photoUrl": "https://lh3.googleusercontent.com/a/default-user=s128",
      "userId": "114894858808878387190"
     },
     "user_tz": 180
    },
    "id": "ROLyiLFJvH2Y",
    "outputId": "1a6aef24-4a72-4df1-aba5-45100a2d64bd"
   },
   "outputs": [
    {
     "name": "stdout",
     "output_type": "stream",
     "text": [
      "coloque a ordem do polinomio aqui 3\n",
      "A =  [1, 2, 3]\n",
      "\n",
      "[ 1.  2.  3.  4.  5.  6.  7.  8.  9. 10.]\n",
      "M =  [[10.0, 55.0, 385.0], [55.0, 385.0, 3025.0], [385.0, 3025.0, 25333.0]]\n",
      "\n",
      "N =  [2046.0, 18434.0, 169978.0]\n",
      "\n",
      "N2 = N, mas de outra maneira [2046.0, 18434.0, 169978.0]\n",
      "p [ 234.86666667 -167.45757576   23.13636364]\n",
      "\n"
     ]
    },
    {
     "data": {
      "image/png": "[encoded data removed]",
      "text/plain": [
       "<matplotlib.figure.Figure at 0x7f48d9e3f9e8>"
      ]
     },
     "metadata": {
      "tags": []
     },
     "output_type": "display_data"
    }
   ],
   "source": [
    "# auto_matrix_polinom_fit\n",
    "\n",
    "mm = eval(input('coloque a ordem do polinomio aqui '))\n",
    "\n",
    "#x = input('coloque o valor de x ')\n",
    "#y = input('coloque o valor de y ')\n",
    "\n",
    "x = np.linspace(1,10,10) # x\n",
    "y = 2**x                 # f(x)\n",
    "\n",
    "m = mm+1 #eval\n",
    "\n",
    "A = list(range(1,m))\n",
    "print('A = ',A)\n",
    "print()\n",
    "\n",
    "print(x)\n",
    "M = [[np.sum(x**(i+j)) for i in range (mm)] for j in range (mm)]\n",
    "print ('M = ',M)\n",
    "print()\n",
    "\n",
    "N = [np.sum(y*(x**(i))) for i in range (mm)]\n",
    "print ('N = ',N)\n",
    "print()\n",
    "\n",
    "N2 = []\n",
    "for i in range(mm):\n",
    "    N2.append(np.sum(y*(x**(i))))\n",
    "print('N2 = N, mas de outra maneira',N2)\n",
    "\n",
    "\n",
    "MI = np.linalg.inv(M)\n",
    "\n",
    "p = (np.dot(MI,N))\n",
    "print ('p',p)\n",
    "print()\n",
    "\n",
    "X = [(x**i) for i in range (mm)]\n",
    "\n",
    "XP = np.array([X[i]*p[i] for i in range (mm)])\n",
    "\n",
    "Y = XP.sum(axis=0)\n",
    "\n",
    "     \n",
    "plt.plot(x,y,'r-')\n",
    "plt.plot(x,Y,'b-')\n",
    "plt.show()"
   ]
  },
  {
   "cell_type": "code",
   "execution_count": 0,
   "metadata": {
    "colab": {
     "autoexec": {
      "startup": false,
      "wait_interval": 0
     }
    },
    "colab_type": "code",
    "id": "TQ6hSd-hyBMf"
   },
   "outputs": [],
   "source": []
  }
 ],
 "metadata": {
  "colab": {
   "collapsed_sections": [],
   "default_view": {},
   "name": "old_fit.ipynb",
   "provenance": [],
   "version": "0.3.2",
   "views": {}
  },
  "kernelspec": {
   "display_name": "Python 3",
   "language": "python",
   "name": "python3"
  },
  "language_info": {
   "codemirror_mode": {
    "name": "ipython",
    "version": 3
   },
   "file_extension": ".py",
   "mimetype": "text/x-python",
   "name": "python",
   "nbconvert_exporter": "python",
   "pygments_lexer": "ipython3",
   "version": "3.6.8"
  }
 },
 "nbformat": 4,
 "nbformat_minor": 1
}
