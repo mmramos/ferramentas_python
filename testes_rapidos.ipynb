{
  "nbformat": 4,
  "nbformat_minor": 0,
  "metadata": {
    "colab": {
      "name": "testes_rapidos.ipynb",
      "provenance": [],
      "authorship_tag": "ABX9TyPJlaEfu29q2vYlS33gm2+s",
      "include_colab_link": true
    },
    "kernelspec": {
      "name": "python3",
      "display_name": "Python 3"
    }
  },
  "cells": [
    {
      "cell_type": "markdown",
      "metadata": {
        "id": "view-in-github",
        "colab_type": "text"
      },
      "source": [
        "<a href=\"https://colab.research.google.com/github/mmramos/ferramentas_python/blob/master/testes_rapidos.ipynb\" target=\"_parent\"><img src=\"https://colab.research.google.com/assets/colab-badge.svg\" alt=\"Open In Colab\"/></a>"
      ]
    },
    {
      "cell_type": "code",
      "metadata": {
        "id": "IZ2KOp0-LO_y"
      },
      "source": [
        "import numpy as np\n",
        "import numexpr as ne"
      ],
      "execution_count": null,
      "outputs": []
    },
    {
      "cell_type": "code",
      "metadata": {
        "colab": {
          "base_uri": "https://localhost:8080/"
        },
        "id": "eWZHkBi5LTEd",
        "outputId": "20071064-9d6f-4d90-d9a2-b9ff206cc102"
      },
      "source": [
        "np.mean([45,32])\n",
        "#np.std([45,32])"
      ],
      "execution_count": null,
      "outputs": [
        {
          "output_type": "execute_result",
          "data": {
            "text/plain": [
              "38.5"
            ]
          },
          "metadata": {
            "tags": []
          },
          "execution_count": 6
        }
      ]
    },
    {
      "cell_type": "code",
      "metadata": {
        "id": "X_eAhUSeLVrs",
        "colab": {
          "base_uri": "https://localhost:8080/"
        },
        "outputId": "60b65993-6105-4ab5-cf14-1230a4d58d24"
      },
      "source": [
        "np.random.normal(38.5,6.5)"
      ],
      "execution_count": null,
      "outputs": [
        {
          "output_type": "execute_result",
          "data": {
            "text/plain": [
              "32.8155286539721"
            ]
          },
          "metadata": {
            "tags": []
          },
          "execution_count": 10
        }
      ]
    },
    {
      "cell_type": "code",
      "metadata": {
        "id": "yeAt8-JlUSZ1",
        "colab": {
          "base_uri": "https://localhost:8080/"
        },
        "outputId": "429a7125-5f63-4ded-e951-b776654d01d1"
      },
      "source": [
        "A = 'NPHI, RHOB, GR'\n",
        "expressao = 'NPHI + GR + RHOB'\n",
        "welllognames = [a.strip() for a in A.split(\",\")]\n",
        "\n",
        "A = {\n",
        "    'NPHI':np.array([1,2,3,4,5,6]),\n",
        "    'RHOB':np.array([1,2,3,4,5,6]),\n",
        "    'GR':np.array([1,2,3,4,5,6]),\n",
        "}\n",
        "\n",
        "welllognames"
      ],
      "execution_count": null,
      "outputs": [
        {
          "output_type": "execute_result",
          "data": {
            "text/plain": [
              "['NPHI', 'RHOB', 'GR']"
            ]
          },
          "metadata": {
            "tags": []
          },
          "execution_count": 12
        }
      ]
    },
    {
      "cell_type": "code",
      "metadata": {
        "colab": {
          "base_uri": "https://localhost:8080/",
          "height": 214
        },
        "id": "ie5GxtSmHC26",
        "outputId": "ca31f8db-a3a0-4e71-a94d-8a31f0ef54da"
      },
      "source": [
        "# exec(\"%s = %d\" % (x,2))\n",
        "ii = 0\n",
        "n = [0.0]*len(welllognames)\n",
        "for i in welllognames:\n",
        "    #n[ii] = exec(\"%s = %d\" % (i,0))\n",
        "    #n[ii] = exec(\"%s = []\" % (i,[1,2,3]))\n",
        "    #n[ii] = A[i]\n",
        "    c = list(A[i])\n",
        "    program = \"i = c\"\n",
        "    exec(program)\n",
        "    print(A[i])\n",
        "    ii += 1"
      ],
      "execution_count": null,
      "outputs": [
        {
          "output_type": "error",
          "ename": "TypeError",
          "evalue": "ignored",
          "traceback": [
            "\u001b[0;31m---------------------------------------------------------------------------\u001b[0m",
            "\u001b[0;31mTypeError\u001b[0m                                 Traceback (most recent call last)",
            "\u001b[0;32m<ipython-input-42-4c5cb3bf8724>\u001b[0m in \u001b[0;36m<module>\u001b[0;34m()\u001b[0m\n\u001b[1;32m      9\u001b[0m     \u001b[0mprogram\u001b[0m \u001b[0;34m=\u001b[0m \u001b[0;34m\"i = c\"\u001b[0m\u001b[0;34m\u001b[0m\u001b[0;34m\u001b[0m\u001b[0m\n\u001b[1;32m     10\u001b[0m     \u001b[0mexec\u001b[0m\u001b[0;34m(\u001b[0m\u001b[0mprogram\u001b[0m\u001b[0;34m)\u001b[0m\u001b[0;34m\u001b[0m\u001b[0;34m\u001b[0m\u001b[0m\n\u001b[0;32m---> 11\u001b[0;31m     \u001b[0mprint\u001b[0m\u001b[0;34m(\u001b[0m\u001b[0mA\u001b[0m\u001b[0;34m[\u001b[0m\u001b[0mi\u001b[0m\u001b[0;34m]\u001b[0m\u001b[0;34m)\u001b[0m\u001b[0;34m\u001b[0m\u001b[0;34m\u001b[0m\u001b[0m\n\u001b[0m\u001b[1;32m     12\u001b[0m     \u001b[0mii\u001b[0m \u001b[0;34m+=\u001b[0m \u001b[0;36m1\u001b[0m\u001b[0;34m\u001b[0m\u001b[0;34m\u001b[0m\u001b[0m\n",
            "\u001b[0;31mTypeError\u001b[0m: unhashable type: 'list'"
          ]
        }
      ]
    },
    {
      "cell_type": "code",
      "metadata": {
        "colab": {
          "base_uri": "https://localhost:8080/"
        },
        "id": "otwIs94Ya295",
        "outputId": "6d27c66a-c301-40f4-eb44-8fdc4084dd8d"
      },
      "source": [
        "ne.evaluate(expressao)"
      ],
      "execution_count": null,
      "outputs": [
        {
          "output_type": "execute_result",
          "data": {
            "text/plain": [
              "array(0, dtype=int64)"
            ]
          },
          "metadata": {
            "tags": []
          },
          "execution_count": 17
        }
      ]
    },
    {
      "cell_type": "code",
      "metadata": {
        "colab": {
          "base_uri": "https://localhost:8080/"
        },
        "id": "-eBvOE-ebc8J",
        "outputId": "5625563b-1f7f-4eb0-cb9f-97383567de03"
      },
      "source": [
        "program = 'a = 5\\nb=10\\nprint(\"Sum =\", a+b)'\n",
        "exec(program)"
      ],
      "execution_count": null,
      "outputs": [
        {
          "output_type": "stream",
          "text": [
            "Sum = 15\n"
          ],
          "name": "stdout"
        }
      ]
    },
    {
      "cell_type": "code",
      "metadata": {
        "id": "Xkyh93IMcqT9"
      },
      "source": [
        "program_2 = \"aaaa = 3\"\n",
        "exec(program_2)"
      ],
      "execution_count": null,
      "outputs": []
    },
    {
      "cell_type": "code",
      "metadata": {
        "colab": {
          "base_uri": "https://localhost:8080/"
        },
        "id": "dZL6HMI4fk8U",
        "outputId": "9815803f-2c94-47a1-887e-6bac6a73b0bc"
      },
      "source": [
        "ne.evaluate(expressao, local_dict=A)"
      ],
      "execution_count": null,
      "outputs": [
        {
          "output_type": "execute_result",
          "data": {
            "text/plain": [
              "array([ 3,  6,  9, 12, 15, 18], dtype=int64)"
            ]
          },
          "metadata": {
            "tags": []
          },
          "execution_count": 44
        }
      ]
    },
    {
      "cell_type": "code",
      "metadata": {
        "id": "GVl43oM0foID"
      },
      "source": [
        ""
      ],
      "execution_count": null,
      "outputs": []
    }
  ]
}